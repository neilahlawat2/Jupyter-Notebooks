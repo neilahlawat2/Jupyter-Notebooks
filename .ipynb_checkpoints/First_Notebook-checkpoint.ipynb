{
 "cells": [
  {
   "cell_type": "markdown",
   "id": "309ee1bd-d2ca-4e02-baf8-d3d955026ac9",
   "metadata": {},
   "source": [
    "# First Jupyter Notebook\n",
    "I will be using this space to learn data science"
   ]
  },
  {
   "cell_type": "code",
   "execution_count": 1,
   "id": "b15c6d79-0963-406e-94f5-b98affdadf29",
   "metadata": {},
   "outputs": [
    {
     "name": "stdout",
     "output_type": "stream",
     "text": [
      "Hello Jupyter Notebook\n"
     ]
    }
   ],
   "source": [
    "print(\"Hello Jupyter Notebook\")"
   ]
  },
  {
   "cell_type": "code",
   "execution_count": 5,
   "id": "c1a9be16-ab2e-40c4-b18d-66ee15d6c8ff",
   "metadata": {},
   "outputs": [
    {
     "name": "stdout",
     "output_type": "stream",
     "text": [
      "10000000\n"
     ]
    }
   ],
   "source": [
    "num = 0\n",
    "\n",
    "for i in range(10000000):\n",
    "    num += 1\n",
    "\n",
    "print(num)"
   ]
  },
  {
   "cell_type": "code",
   "execution_count": null,
   "id": "aa784c3d-0153-4000-999b-941abfcf6a10",
   "metadata": {},
   "outputs": [],
   "source": []
  }
 ],
 "metadata": {
  "kernelspec": {
   "display_name": "Python 3 (ipykernel)",
   "language": "python",
   "name": "python3"
  },
  "language_info": {
   "codemirror_mode": {
    "name": "ipython",
    "version": 3
   },
   "file_extension": ".py",
   "mimetype": "text/x-python",
   "name": "python",
   "nbconvert_exporter": "python",
   "pygments_lexer": "ipython3",
   "version": "3.12.9"
  }
 },
 "nbformat": 4,
 "nbformat_minor": 5
}
