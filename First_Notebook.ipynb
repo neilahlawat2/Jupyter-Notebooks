{
 "cells": [
  {
   "cell_type": "markdown",
   "id": "309ee1bd-d2ca-4e02-baf8-d3d955026ac9",
   "metadata": {
    "editable": true,
    "slideshow": {
     "slide_type": ""
    },
    "tags": []
   },
   "source": [
    "# First Jupyter Notebook\n",
    "I will be using this space to learn data science"
   ]
  },
  {
   "cell_type": "code",
   "execution_count": 14,
   "id": "b15c6d79-0963-406e-94f5-b98affdadf29",
   "metadata": {},
   "outputs": [
    {
     "name": "stdout",
     "output_type": "stream",
     "text": [
      "Hello Jupyter Notebook\n"
     ]
    }
   ],
   "source": [
    "print(\"Hello Jupyter Notebook\")"
   ]
  },
  {
   "cell_type": "code",
   "execution_count": 15,
   "id": "c1a9be16-ab2e-40c4-b18d-66ee15d6c8ff",
   "metadata": {},
   "outputs": [
    {
     "name": "stdout",
     "output_type": "stream",
     "text": [
      "10000000\n"
     ]
    }
   ],
   "source": [
    "num = 0\n",
    "\n",
    "for i in range(10000000):\n",
    "    num += 1\n",
    "\n",
    "print(num)"
   ]
  },
  {
   "cell_type": "markdown",
   "id": "0fc06ec1-170e-4478-ab73-3ac8b030b3b1",
   "metadata": {},
   "source": [
    "create findMax function that returns the maximum value between two integers."
   ]
  },
  {
   "cell_type": "code",
   "execution_count": 16,
   "id": "aa784c3d-0153-4000-999b-941abfcf6a10",
   "metadata": {},
   "outputs": [],
   "source": [
    "def findMax (x, y):\n",
    "    if x > y: # if x is greater than y, return x\n",
    "        return x\n",
    "    elif x < y: # if y is greater than x, return y\n",
    "        return y\n",
    "    else: # return -1 if both values are equal\n",
    "        return -1"
   ]
  },
  {
   "cell_type": "code",
   "execution_count": 17,
   "id": "84cf1e6b-b04f-48af-a56d-896d97718184",
   "metadata": {
    "scrolled": true
   },
   "outputs": [
    {
     "data": {
      "text/plain": [
       "-1"
      ]
     },
     "execution_count": 17,
     "metadata": {},
     "output_type": "execute_result"
    }
   ],
   "source": [
    "findMax(3, 3)"
   ]
  },
  {
   "cell_type": "code",
   "execution_count": 2,
   "id": "89a1a252-74b9-48fe-bfe5-c499dd06ed5e",
   "metadata": {},
   "outputs": [
    {
     "data": {
      "text/html": [
       "4"
      ],
      "text/latex": [
       "4"
      ],
      "text/markdown": [
       "4"
      ],
      "text/plain": [
       "[1] 4"
      ]
     },
     "metadata": {},
     "output_type": "display_data"
    }
   ],
   "source": [
    "a <- 2\n",
    "a + 2"
   ]
  },
  {
   "cell_type": "code",
   "execution_count": null,
   "id": "b47af205-7bfb-4ebc-9ae8-878d35deb796",
   "metadata": {},
   "outputs": [],
   "source": []
  }
 ],
 "metadata": {
  "kernelspec": {
   "display_name": "R",
   "language": "R",
   "name": "ir"
  },
  "language_info": {
   "codemirror_mode": "r",
   "file_extension": ".r",
   "mimetype": "text/x-r-source",
   "name": "R",
   "pygments_lexer": "r",
   "version": "3.6.1"
  }
 },
 "nbformat": 4,
 "nbformat_minor": 5
}
